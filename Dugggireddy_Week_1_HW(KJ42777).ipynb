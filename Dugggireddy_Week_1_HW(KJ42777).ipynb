{
 "cells": [
  {
   "cell_type": "markdown",
   "id": "a7974dc2",
   "metadata": {},
   "source": [
    "\n",
    "\n",
    "### Question1: Critical Discussion on Foundations of Data Science\n",
    "\n",
    "#### Objective\n",
    "Engage in a critical discussion about the synergy between Python, Mathematics, and Statistics in Data Science.\n",
    "\n",
    "\n"
   ]
  },
  {
   "cell_type": "markdown",
   "id": "92c630f8",
   "metadata": {},
   "source": [
    "\n",
    "#### Tasks\n",
    "1. **Integration of Disciplines**:\n",
    "   - Write a 50-100 word essay on how Python, Mathematics, and Statistics integrate in data science. Provide real-world examples.\n",
    "\n",
    "2. **Practical vs Theoretical Understanding**:\n",
    "   - Discuss the importance of theoretical knowledge versus practical skills. Which is more crucial, and why?\n",
    "\n",
    "3. **Challenges and Strategies**:\n",
    "   - List challenges faced when learning these disciplines together and propose strategies to overcome them.\n",
    "\n",
    "4. **Ethical Considerations**:\n",
    "   - Discuss how a strong foundation in these areas helps address ethical dilemmas in data science.\n",
    "\n",
    "#### Engagement\n",
    "- Participate in the class discussion blackboard, post your essays, and provide constructive feedback on peers' posts.\n"
   ]
  },
  {
   "cell_type": "markdown",
   "id": "552d2276",
   "metadata": {},
   "source": [
    "\n",
    "\n",
    "### Question2: Create and Share Your GitHub Profile\n",
    "\n",
    "#### Objective\n",
    "Establish a professional GitHub profile to showcase your projects, collaborate with others, and engage with the data science community.\n",
    "\n",
    "\n"
   ]
  },
  {
   "cell_type": "markdown",
   "id": "16eddcaa",
   "metadata": {},
   "source": [
    "\n",
    "#### Instructions\n",
    "\n",
    "1. **Create Your GitHub Profile**:\n",
    "   - If you don't already have a GitHub account, sign up at [GitHub](https://github.com/).\n",
    "   - Customize your profile:\n",
    "     - Set a professional profile picture.\n",
    "     - Write a clear bio reflecting your interests in data science.\n",
    "     - Add relevant details (e.g., education, skills, contact information).\n",
    "\n",
    "2. **Create a Repository for DATA 601**:\n",
    "   - Create a new repository named `DATA601`.\n",
    "   - Initialize it with a README.md file.\n",
    "   - Describe the purpose of the repository in the README.\n",
    "\n",
    "3. **Share Your Profile and Repository**:\n",
    "   - In a markdown cell in Jupyter, write a brief introduction about yourself.\n",
    "   - Embed links to your GitHub profile and `DATA601` repository.\n",
    "   - Use markdown formatting to organize your content neatly."
   ]
  },
  {
   "cell_type": "markdown",
   "id": "8b8b3269",
   "metadata": {},
   "source": [
    "### Question3: Python Data Structure Manipulation\n",
    "\n",
    "#### Objective\n",
    "Demonstrate proficiency in using core Python programming concepts to manipulate and process data\n",
    "\n"
   ]
  },
  {
   "cell_type": "markdown",
   "id": "1304abd7",
   "metadata": {},
   "source": [
    "\n",
    "\n",
    "#### Task 1: Hypothetical Dataset Challenge\n",
    "\n",
    "1. **Dataset Creation**:\n",
    "   - Create a nested list that represents students' grades in a class. Each element should be a dictionary containing the student's name, ID, and a list of grades.\n",
    "\n",
    "    ```python\n",
    "    students = [\n",
    "        {\"name\": \"Alice\", \"id\": 1, \"grades\": [88, 92, 85]},\n",
    "        {\"name\": \"Bob\", \"id\": 2, \"grades\": [76, 90, 83]},\n",
    "        {\"name\": \"Clara\", \"id\": 3, \"grades\": [91, 85, 89]}\n",
    "    ]\n",
    "    ```\n",
    "\n",
    "2. **Data Manipulation Tasks**:\n",
    "   - Calculate the average grade for each student and add it as a new key-value pair in each dictionary.\n",
    "   - Using list comprehension, create a list of passed students (passing grade is 70).\n",
    "   - Implement a search function that returns a student's record based on the student's ID.\n",
    "\n",
    "\n",
    "\n"
   ]
  },
  {
   "cell_type": "markdown",
   "id": "e5572d51",
   "metadata": {},
   "source": [
    "#### Task 2: Public Dataset Challenge\n",
    "\n",
    "1. **Dataset Acquisition**:\n",
    "   - Download a public dataset, for example, the Iris dataset from the UCI Machine Learning Repository (use `pandas` or `csv` module to load the data).\n",
    "\n",
    "    ```python\n",
    "    import pandas as pd\n",
    "    url = \"https://archive.ics.uci.edu/ml/machine-learning-databases/iris/iris.data\"\n",
    "    column_names = ['sepal_length', 'sepal_width', 'petal_length', 'petal_width', 'class']\n",
    "    iris_data = pd.read_csv(url, names=column_names)\n",
    "    ```\n",
    "\n",
    "2. **Data Manipulation Tasks**:\n",
    "   - Using a loop and conditionals, categorize each iris plant into 'small', 'medium', or 'large' based on sepal length (define your own thresholds).\n",
    "   - Create a new dictionary where each key is a unique class from the dataset, and the value is the average petal width of that class.\n",
    "   - Use list comprehension to create a list of sepal length-to-width ratios for all records."
   ]
  },
  {
   "cell_type": "markdown",
   "id": "ee32f320",
   "metadata": {},
   "source": [
    "#### Submission Guidelines\n",
    "- Write your code in a Python script or a Jupyter Notebook.\n",
    "- Include comments to explain the purpose of your code and the logic behind your solutions.\n",
    "- Ensure your code is clean, well-organized, and follows Python best practices.\n",
    "\n"
   ]
  },
  {
   "cell_type": "markdown",
   "id": "29576b0f",
   "metadata": {},
   "source": [
    "**Question1: Critical Discussion on Foundations of Data Science\n",
    "Objective\n",
    "Engage in a critical discussion about the synergy between Python, Mathematics, and Statistics in Data Science.\n",
    "\n",
    "#### Tasks\n",
    "1. **Integration of Disciplines**:\n",
    "   - Write a 50-100 word essay on how Python, Mathematics, and Statistics integrate in data science. Provide real-world examples."
   ]
  },
  {
   "cell_type": "markdown",
   "id": "3087738a",
   "metadata": {},
   "source": [
    "**Data science is built on foundational pillars of mathematics and statistics and a programming language, as in our case Python. The domains of Mathematics and statistics domains play a crucial role in data science in providing the foundation in understanding, analyzing, drawing insights from vast data sets. Furthermore, these domains can help  in optimizing algorithms which can be fed to train the models that can help predict the real-world scenarios. Python, equipped with robust and flexible libraries like pandas, NumPy, Scikit and more, integrates mathematical and statistical concepts in implementing algorithms. Additionally, Python libraries assist in mapping the data and inferences drawn from the statistics can help us understand the dispersion, tendency, and significance of the data set. The strength of data science lies in the symbiotic relationship of these domains converting the vast raw data sets into meaningful models to infer insights. A practical application involves analyzing e-commerce data with python, enabling us to draw conclusions that can optimize advertising and marketing strategies, ensuring higher revenue through the delivery of quality goods and services."
   ]
  },
  {
   "cell_type": "markdown",
   "id": "d4639960",
   "metadata": {},
   "source": [
    "2. **Practical vs Theoretical Understanding**:\n",
    "   - Discuss the importance of theoretical knowledge versus practical skills. Which is more crucial, and why?"
   ]
  },
  {
   "cell_type": "markdown",
   "id": "f9fdadec",
   "metadata": {},
   "source": [
    "** In my perspective, both theoretical and practical knowledge are equally important in mastering any programming language or any skills. Knowledge can be acquired from various source, however if not placed in practice, the gained knowledge fades away in no time. Theoretical knowledge on one hand gained through multiple sources can equip us with fundamental knowledge, rules and concepts that can serve as the building blocks for understanding complex problems and may allow us to take an informed decision on the results acquired.  Practical knowledge on the hand enables to acquire the specific skills that may become the tools of your trade. Mainly, it enables to have  hands-on experience application of theoretical concepts where one can learn the possible problems that might arise."
   ]
  },
  {
   "cell_type": "markdown",
   "id": "3955715e",
   "metadata": {},
   "source": [
    "3. **Challenges and Strategies**:\n",
    "   - List challenges faced when learning these disciplines together and propose strategies to overcome them."
   ]
  },
  {
   "cell_type": "markdown",
   "id": "fed88c23",
   "metadata": {},
   "source": [
    "** As a beginner in data science, I find myself overwhelmed with the daunting task of learning these pillars of data science including Python, statistics, and mathematics from the beginning. Concerning its complexity of these domains, especially for someone new to the field, would require significant time and effort to grasp the concepts effectively. However, I believe repeated practice by solving problems and data sets might help me to grasp over the domains.\n",
    "Furthermore, in the process of memorising the syntax rule and structures, I believe many people including myself, under emphasize the importance of statistical and mathematical concepts which poses a challenge and slows down the learning process.  An introductory class or few classes dedicated to explaining the statistical part along with an assignment might help us to delve faster into the subject. Nevertheless, integrating Python, statistics and mathematics in data science may be challenging but continuous practice and a supportive learning online platforms helped me overcome these obstacles.\n"
   ]
  },
  {
   "cell_type": "markdown",
   "id": "a21206d1",
   "metadata": {},
   "source": [
    "4. **Ethical Considerations**:\n",
    "   - Discuss how a strong foundation in these areas helps address ethical dilemmas in data science."
   ]
  },
  {
   "cell_type": "markdown",
   "id": "98512358",
   "metadata": {},
   "source": [
    "** Gaining knowledge in programming language like python, statistics and mathematics helps to understand and visualise the data and optimise algorithms, which restricts a person from taking biased decisions. Furthermore, in the world of data, privacy is a major concern, integration of these domains helps to create algorithms for encryption. Additionally, profound knowledge in these domains can help to create a more responsible and sustainable technology ecosystem."
   ]
  },
  {
   "cell_type": "markdown",
   "id": "4420af31",
   "metadata": {},
   "source": [
    "**Instructions\n",
    "1.Create Your GitHub Profile:\n",
    "  .If you don't already have a GitHub account, sign up at GitHub.\n",
    "  .Customize your profile:\n",
    "  .Set a professional profile picture.\n",
    "  .Write a clear bio reflecting your interests in data science.\n",
    "   Add relevant details (e.g., education, skills, contact information).\n",
    "  \n",
    "**2.Create a Repository for DATA 601:\n",
    "    .Create a new repository named DATA601.\n",
    "    .Initialize it with a README.md file.\n",
    "    .Describe the purpose of the repository in the README.\n",
    "  \n",
    "**3.Share Your Profile and Repository:\n",
    "     .In a markdown cell in Jupyter, write a brief introduction about yourself.\n",
    "     .Embed links to your GitHub profile and DATA601 repository.\n",
    "     .Use markdown formatting to organize your content neatly."
   ]
  },
  {
   "cell_type": "markdown",
   "id": "cf0f5d25",
   "metadata": {},
   "source": [
    "**Introduction about Myself\n",
    "\n",
    "Hello! I'm Duggireddy Reddy Sai Reddy, a recent graduate with a degree in Computer Science and Engineering. I completed my bachelor's in the year 2022 and subsequently gained valuable experience working as a Data Analyst for 1.5 years. During this period, I recognized the vast potential within the field of Data Science, prompting me to pursue further education.\n",
    "\n",
    "Eager to expand my knowledge and skills, I enrolled in the MPS in Data Science program. I am confident that this course, along with its assignments, will provide me with the necessary tools to deepen my understanding of Data Science. Excited about the journey ahead, I look forward to the upcoming classes and the opportunities they will bring.\n"
   ]
  },
  {
   "cell_type": "markdown",
   "id": "bb356601",
   "metadata": {},
   "source": [
    "**Embed links to your Github profile and DATA601 repository\n",
    "\n",
    "[My GitHub Profile] (https://github.com/DuggiReddy772/Reddy-Sai-Reddy-Duggireddy)\n",
    "\n",
    "[DATA601 Repository] (https://github.com/DuggiReddy772/DATA601)"
   ]
  },
  {
   "cell_type": "markdown",
   "id": "444ea684",
   "metadata": {},
   "source": [
    "**Question 3:Pyhton Data Structure Manipulation\n",
    "Task1.Dataset Creation:\n",
    "\n",
    "Create a nested list that represents students' grades in a class. Each element should be a dictionary containing the student's name, ID, and a list of grades."
   ]
  },
  {
   "cell_type": "code",
   "execution_count": 1,
   "id": "8ad0df73",
   "metadata": {},
   "outputs": [],
   "source": [
    "students = [\n",
    "    {\"name\": \"Alice\", \"id\": 1, \"grades\": [88, 92, 85]},\n",
    "    {\"name\": \"Bob\", \"id\": 2, \"grades\": [76, 90, 83]},\n",
    "    {\"name\": \"Clara\", \"id\": 3, \"grades\": [91, 85, 89]}\n",
    "]"
   ]
  },
  {
   "cell_type": "markdown",
   "id": "8295f0cc",
   "metadata": {},
   "source": [
    "**2.Data Manipulation Tasks:\n",
    "\n",
    "Calculate the average grade for each student and add it as a new key-value pair in each dictionary."
   ]
  },
  {
   "cell_type": "code",
   "execution_count": 3,
   "id": "ddf45443",
   "metadata": {},
   "outputs": [],
   "source": [
    "#Iterate throgh each children dictionary in the list\n",
    "for children in students:\n",
    "    average_grade = sum(children[\"grades\"]) / len(children[\"grades\"])\n",
    "    #here we are adding new key-value pair to children dictionary\n",
    "    children[\"avg_grade\"] = average_grade"
   ]
  },
  {
   "cell_type": "markdown",
   "id": "4a32859d",
   "metadata": {},
   "source": [
    "**Using list comprehension, create a list of passed students (passing grade is 70)."
   ]
  },
  {
   "cell_type": "code",
   "execution_count": 4,
   "id": "d457dd4c",
   "metadata": {},
   "outputs": [],
   "source": [
    "#Here we are creatig an empty list to store students passed\n",
    "passed_students = []\n",
    "for children in students:\n",
    "    #Here we are checking student's avg grade is greater than or equal to 70\n",
    "    #if condition met add to the passed students list\n",
    "    if children[\"avg_grade\"] >= 70:\n",
    "        passed_students.append(children)"
   ]
  },
  {
   "cell_type": "markdown",
   "id": "b595aa04",
   "metadata": {},
   "source": [
    "**Implement a search function that returns a student's record based on the student's ID."
   ]
  },
  {
   "cell_type": "code",
   "execution_count": 6,
   "id": "3cf14408",
   "metadata": {},
   "outputs": [],
   "source": [
    "# Here we are creating a fucntion to search for student record by ID\n",
    "#children_id is taken as parameter to find ID of the student\n",
    "#return student record if found , None otherwise\n",
    "def children_by_id(children_id):\n",
    "    for children in students:\n",
    "        if children[\"id\"] == children_id:\n",
    "            return children\n",
    "    return None"
   ]
  },
  {
   "cell_type": "code",
   "execution_count": 8,
   "id": "bce99610",
   "metadata": {},
   "outputs": [
    {
     "name": "stdout",
     "output_type": "stream",
     "text": [
      "Student found:\n",
      "{'name': 'Bob', 'id': 2, 'grades': [76, 90, 83], 'avg_grade': 83.0}\n"
     ]
    }
   ],
   "source": [
    "#Here we defined student ID to find\n",
    "#to find student record with specific id we call children_by_id function\n",
    "#Record of the student found print student found with details\n",
    "#print no student record was found.\n",
    "search_id = 2\n",
    "found_children = children_by_id(search_id)\n",
    "if found_children:\n",
    "    print(\"Student found:\")\n",
    "    print(found_children)\n",
    "else:\n",
    "    print(\"Student not found.\")"
   ]
  },
  {
   "cell_type": "code",
   "execution_count": 10,
   "id": "e8e8a004",
   "metadata": {},
   "outputs": [
    {
     "name": "stdout",
     "output_type": "stream",
     "text": [
      "passed students:\n",
      "{'name': 'Alice', 'id': 1, 'grades': [88, 92, 85], 'avg_grade': 88.33333333333333}\n",
      "{'name': 'Bob', 'id': 2, 'grades': [76, 90, 83], 'avg_grade': 83.0}\n",
      "{'name': 'Clara', 'id': 3, 'grades': [91, 85, 89], 'avg_grade': 88.33333333333333}\n"
     ]
    }
   ],
   "source": [
    "#To print the list of the students\n",
    "print(\"passed students:\")\n",
    "for children in passed_students:\n",
    "    #print each passed student details\n",
    "    print(children)"
   ]
  },
  {
   "cell_type": "markdown",
   "id": "f57635e4",
   "metadata": {},
   "source": [
    "**Task 2: Public Dataset Challenge\n",
    "Dataset Acquisition:\n",
    "\n",
    ".Download a public dataset, for example, the Iris dataset from the UCI Machine Learning Repository (use pandas or csv module to load the data)."
   ]
  },
  {
   "cell_type": "code",
   "execution_count": 11,
   "id": "eac50b67",
   "metadata": {},
   "outputs": [],
   "source": [
    "import pandas as pd \n",
    "url = \"https://archive.ics.uci.edu/ml/machine-learning-databases/iris/iris.data\"\n",
    "column_names = ['sepal_length','sepal_width','petal_length','petal_width','class']\n",
    "iris_data = pd.read_csv(url, names=column_names)"
   ]
  },
  {
   "cell_type": "code",
   "execution_count": 12,
   "id": "40db023b",
   "metadata": {},
   "outputs": [
    {
     "name": "stdout",
     "output_type": "stream",
     "text": [
      "   sepal_length  sepal_width  petal_length  petal_width        class\n",
      "0           5.1          3.5           1.4          0.2  Iris-setosa\n",
      "1           4.9          3.0           1.4          0.2  Iris-setosa\n",
      "2           4.7          3.2           1.3          0.2  Iris-setosa\n",
      "3           4.6          3.1           1.5          0.2  Iris-setosa\n",
      "4           5.0          3.6           1.4          0.2  Iris-setosa\n"
     ]
    }
   ],
   "source": [
    "print(iris_data.head())"
   ]
  },
  {
   "cell_type": "markdown",
   "id": "8fe68861",
   "metadata": {},
   "source": [
    "**2.Data Manipulation Tasks:\n",
    "\n",
    "Using a loop and conditionals, categorize each iris plant into 'small', 'medium', or 'large' based on sepal length (define your own thresholds)."
   ]
  },
  {
   "cell_type": "code",
   "execution_count": 15,
   "id": "4b349a9d",
   "metadata": {},
   "outputs": [],
   "source": [
    "#Empty list it created to store sepal classes\n",
    "sepal_classes = []\n",
    "for size in iris_data['sepal_length']:\n",
    "    #According to the size of the sepal and categorize it inti 'small','medium',or'large'\n",
    "    if size < 5.0:\n",
    "        sepal_classes.append('small')\n",
    "    elif 5.0 <= size < 6.0:\n",
    "        sepal_classes.append('medium')\n",
    "    else:\n",
    "        sepal_classes.append('large')\n",
    "iris_data['sepal_class'] = sepal_classes"
   ]
  },
  {
   "cell_type": "markdown",
   "id": "b011f7f5",
   "metadata": {},
   "source": [
    "**Create a new dictionary where each key is a unique class from the dataset, and the value is the average petal width of that class."
   ]
  },
  {
   "cell_type": "code",
   "execution_count": 17,
   "id": "02dc1f51",
   "metadata": {},
   "outputs": [],
   "source": [
    "# To store the average petal width for each class empty dictionary is created\n",
    "average_petal_width = {}\n",
    "for class_designation, group in iris_data.groupby('class'):\n",
    "    #average petal width in the dictionary with the class_designation as the key\n",
    "    average_petal_width[class_designation] = group['petal_width'].mean()"
   ]
  },
  {
   "cell_type": "markdown",
   "id": "57056b55",
   "metadata": {},
   "source": [
    "**Use list comprehension to create a list of sepal length-to-width ratios for all records."
   ]
  },
  {
   "cell_type": "code",
   "execution_count": 18,
   "id": "4b5a5ad6",
   "metadata": {},
   "outputs": [],
   "source": [
    "#To store the sepal length-top-width ratios empty list is created\n",
    "sepal_size_breadth = []\n",
    "for sepal_length , sepal_width in zip(iris_data['sepal_length'],iris_data['sepal_width']):\n",
    "    #ratio is calculated of sepal length to sepal width using the formula length / width\n",
    "    equation = sepal_length / sepal_width\n",
    "    #calculated ratio is append to the sepal_size_breadth list\n",
    "    sepal_size_breadth.append(equation)"
   ]
  },
  {
   "cell_type": "markdown",
   "id": "47b9cc73",
   "metadata": {},
   "source": [
    "** printing the results"
   ]
  },
  {
   "cell_type": "code",
   "execution_count": 19,
   "id": "b2ac2b6f",
   "metadata": {},
   "outputs": [
    {
     "name": "stdout",
     "output_type": "stream",
     "text": [
      "classes of Iris plants:\n",
      "   sepal_length  sepal_width sepal_class\n",
      "0           5.1          3.5      medium\n",
      "1           4.9          3.0       small\n",
      "2           4.7          3.2       small\n",
      "3           4.6          3.1       small\n",
      "4           5.0          3.6      medium\n"
     ]
    }
   ],
   "source": [
    "print(\"classes of Iris plants:\")\n",
    "print(iris_data[['sepal_length','sepal_width','sepal_class']].head())\n",
    "## here we categorized the iris plants"
   ]
  },
  {
   "cell_type": "code",
   "execution_count": 20,
   "id": "9500af69",
   "metadata": {},
   "outputs": [
    {
     "name": "stdout",
     "output_type": "stream",
     "text": [
      "\n",
      " finding Petal Average Width for each:\n",
      "{'Iris-setosa': 0.244, 'Iris-versicolor': 1.3259999999999998, 'Iris-virginica': 2.0260000000000002}\n"
     ]
    }
   ],
   "source": [
    "print(\"\\n finding Petal Average Width for each:\")\n",
    "print(average_petal_width)\n",
    "## here we are printing the average petal width"
   ]
  },
  {
   "cell_type": "code",
   "execution_count": 21,
   "id": "d37e242a",
   "metadata": {},
   "outputs": [
    {
     "name": "stdout",
     "output_type": "stream",
     "text": [
      "\n",
      " finding length widht ratios of Sepal:\n",
      "[1.457142857142857, 1.6333333333333335, 1.46875, 1.4838709677419353, 1.3888888888888888, 1.3846153846153848]\n"
     ]
    }
   ],
   "source": [
    "print(\"\\n finding length widht ratios of Sepal:\")\n",
    "print(sepal_size_breadth[:6])\n",
    "#here we are printing the first 6 ratios "
   ]
  },
  {
   "cell_type": "code",
   "execution_count": null,
   "id": "1714d968",
   "metadata": {},
   "outputs": [],
   "source": []
  },
  {
   "cell_type": "code",
   "execution_count": null,
   "id": "2e449bb0",
   "metadata": {},
   "outputs": [],
   "source": []
  },
  {
   "cell_type": "code",
   "execution_count": null,
   "id": "54a864c3",
   "metadata": {},
   "outputs": [],
   "source": []
  },
  {
   "cell_type": "code",
   "execution_count": null,
   "id": "67ab8b24",
   "metadata": {},
   "outputs": [],
   "source": []
  },
  {
   "cell_type": "code",
   "execution_count": null,
   "id": "84225e90",
   "metadata": {},
   "outputs": [],
   "source": []
  },
  {
   "cell_type": "code",
   "execution_count": null,
   "id": "45dc56d8",
   "metadata": {},
   "outputs": [],
   "source": []
  },
  {
   "cell_type": "code",
   "execution_count": null,
   "id": "0227e78b",
   "metadata": {},
   "outputs": [],
   "source": []
  }
 ],
 "metadata": {
  "kernelspec": {
   "display_name": "Python 3 (ipykernel)",
   "language": "python",
   "name": "python3"
  },
  "language_info": {
   "codemirror_mode": {
    "name": "ipython",
    "version": 3
   },
   "file_extension": ".py",
   "mimetype": "text/x-python",
   "name": "python",
   "nbconvert_exporter": "python",
   "pygments_lexer": "ipython3",
   "version": "3.11.5"
  }
 },
 "nbformat": 4,
 "nbformat_minor": 5
}
